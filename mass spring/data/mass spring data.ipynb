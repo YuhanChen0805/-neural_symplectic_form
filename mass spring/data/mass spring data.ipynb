{
 "cells": [
  {
   "cell_type": "code",
   "execution_count": 1,
   "metadata": {
    "executionInfo": {
     "elapsed": 4132,
     "status": "ok",
     "timestamp": 1621404798744,
     "user_tz": -540
    },
    "id": "PH6QVocQu6ZT"
   },
   "outputs": [],
   "source": [
    "import torch\n",
    "import numpy as np\n",
    "import scipy.integrate\n",
    "solver = scipy.integrate.solve_ivp\n",
    "from numpy import sin, cos \n",
    "import matplotlib.pyplot as plt\n",
    "import random\n",
    "\n",
    "\n",
    "seed = 3\n",
    "random.seed(seed)\n",
    "np.random.seed(seed)\n",
    "torch.manual_seed(seed)\n",
    "torch.cuda.manual_seed_all(seed)\n",
    "torch.backends.cudnn.determinstic = True"
   ]
  },
  {
   "cell_type": "code",
   "execution_count": 2,
   "metadata": {
    "executionInfo": {
     "elapsed": 10842,
     "status": "ok",
     "timestamp": 1621404805455,
     "user_tz": -540
    },
    "id": "zxKauQ8VwPMI"
   },
   "outputs": [],
   "source": [
    "#parameters\n",
    "k1 = 3.0\n",
    "k2 = 5.0\n",
    "m1 = 1.0\n",
    "m2 = 2.0\n",
    "l1 = 1.0\n",
    "l2 = 1.0\n",
    "\n",
    "def func(t, state):\n",
    "  dvdt = np.zeros_like(state)\n",
    "  dvdt[0] = state[2]\n",
    "  dvdt[1] = state[3]\n",
    "  dvdt[2] = (-k1*(state[0]-l1)+k2*(state[1]-state[0]-l2))/m1\n",
    "  dvdt[3] = -k2*(state[1]-state[0]-l2)/m2\n",
    "  return dvdt\n",
    "\n",
    "M = 100\n",
    "tend = 5.0\n",
    "t_eval = np.linspace(0,tend,M)\n",
    "dt = t_eval[1]-t_eval[0]\n",
    "\n",
    "\n",
    "num = 1000\n",
    "x1_init = np.random.randn(num)\n",
    "x2_init = np.random.randn(num)\n",
    "#print(x1)\n",
    "v1_init = np.random.randn(num)\n",
    "v2_init = np.random.randn(num)\n",
    "state = []\n",
    "for i in range(num):\n",
    "  s = (x1_init[i], v1_init[i], x2_init[i], v2_init[i])\n",
    "  state.append(s)\n",
    "#print(state)\n",
    "p1 = []\n",
    "v1 = []\n",
    "p2 = []\n",
    "v2 = []\n",
    "flag = False\n",
    "for i in range(num):\n",
    "  sol = solver(func, [0, tend], state[i], t_eval=t_eval)\n",
    "  tval = sol['t']\n",
    "  dv1dt = sol['y'][0], sol['y'][1]\n",
    "  dv2dt = sol['y'][2], sol['y'][3]\n",
    "  p1 = dv1dt[0]\n",
    "  v1 = dv1dt[1] \n",
    "  p2 = dv2dt[0]\n",
    "  v2 = dv2dt[1]\n",
    "  q1 = sol['y'][0]\n",
    "  q2 = sol['y'][1]\n",
    "  v1 = sol['y'][2]\n",
    "  v2 = sol['y'][3]\n",
    "  xval = np.vstack([q1, q2, v1, v2])\n",
    "  dxdt = func(tval, xval)\n",
    "  if flag:\n",
    "    x_input = np.concatenate([x_input, xval], 1)\n",
    "    x_target = np.concatenate([x_target, dxdt], 1)\n",
    "  else:\n",
    "    x_input = xval\n",
    "    x_target = dxdt\n",
    "    flag = True\n",
    "\n",
    "x_target_max = np.abs(x_target).max(axis=1)\n",
    "A = np.diag(x_target_max)\n",
    "B = A\n",
    "\n",
    "x_input = np.matmul(np.linalg.inv(B),x_input)\n",
    "x_target = np.linalg.inv(A)@x_target"
   ]
  },
  {
   "cell_type": "code",
   "execution_count": 4,
   "metadata": {
    "executionInfo": {
     "elapsed": 21608,
     "status": "ok",
     "timestamp": 1621404834494,
     "user_tz": -540
    },
    "id": "YtdE608Kw0_f"
   },
   "outputs": [],
   "source": [
    "target_file = np.savetxt(\"target.csv\", x_target.T, delimiter=',')\n",
    "input_file = np.savetxt(\"input.csv\", x_input.T, delimiter=',')"
   ]
  },
  {
   "cell_type": "code",
   "execution_count": 5,
   "metadata": {
    "executionInfo": {
     "elapsed": 21073,
     "status": "ok",
     "timestamp": 1621404834494,
     "user_tz": -540
    },
    "id": "4g5B8ngJxAfH"
   },
   "outputs": [],
   "source": [
    "A_file = np.savetxt(\"A.csv\", A, delimiter=',')\n",
    "B_file = np.savetxt(\"B.csv\", B, delimiter=',')"
   ]
  },
  {
   "cell_type": "code",
   "execution_count": null,
   "metadata": {
    "id": "we1VbFyCDeZ_"
   },
   "outputs": [],
   "source": []
  }
 ],
 "metadata": {
  "colab": {
   "authorship_tag": "ABX9TyNftxIp6yLEKAdrlUfsZ6nT",
   "name": "ms data.ipynb",
   "provenance": []
  },
  "kernelspec": {
   "display_name": "Python 3",
   "language": "python",
   "name": "python3"
  },
  "language_info": {
   "codemirror_mode": {
    "name": "ipython",
    "version": 3
   },
   "file_extension": ".py",
   "mimetype": "text/x-python",
   "name": "python",
   "nbconvert_exporter": "python",
   "pygments_lexer": "ipython3",
   "version": "3.8.5"
  }
 },
 "nbformat": 4,
 "nbformat_minor": 1
}
