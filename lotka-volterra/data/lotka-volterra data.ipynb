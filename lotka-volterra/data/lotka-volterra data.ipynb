{
 "cells": [
  {
   "cell_type": "code",
   "execution_count": 1,
   "metadata": {
    "executionInfo": {
     "elapsed": 3785,
     "status": "ok",
     "timestamp": 1621298678155,
     "user": {
      "photoUrl": ""
     },
     "user_tz": -540
    },
    "id": "UrJvkbY7er0W"
   },
   "outputs": [],
   "source": [
    "import torch\n",
    "import numpy as np\n",
    "import scipy.integrate\n",
    "solver = scipy.integrate.solve_ivp\n",
    "from numpy import sin, cos \n",
    "import matplotlib.pyplot as plt\n",
    "import random\n",
    "\n",
    "\n",
    "seed = 12\n",
    "random.seed(seed)\n",
    "np.random.seed(seed)\n",
    "torch.manual_seed(seed)\n",
    "torch.cuda.manual_seed_all(seed)\n",
    "torch.backends.cudnn.determinstic = True"
   ]
  },
  {
   "cell_type": "code",
   "execution_count": 2,
   "metadata": {
    "executionInfo": {
     "elapsed": 2937,
     "status": "ok",
     "timestamp": 1621298686533,
     "user": {
      "photoUrl": ""
     },
     "user_tz": -540
    },
    "id": "Lkj6MWipfCmt"
   },
   "outputs": [],
   "source": [
    "#parameters\n",
    "a11 = 1.0\n",
    "a12 = -1.0\n",
    "a21 = -1.0\n",
    "a22 = 1.0\n",
    "\n",
    "def func(t, state):\n",
    "  dvdt = np.zeros_like(state)\n",
    "  dvdt[0] = a11*state[0] + a12*state[0]*state[1]\n",
    "  dvdt[1] = a21*state[1] + a22*state[0]*state[1]\n",
    "  return dvdt\n",
    "\n",
    "#　the time grid\n",
    "M = 100\n",
    "tend = 5.0\n",
    "t_eval = np.linspace(0,tend,M)\n",
    "dt = t_eval[1]-t_eval[0]\n",
    "num = 1000\n",
    "#state = np.random.rand(num, 2)\n",
    "state = np.random.uniform(low=0.0, high=1.0, size=(num,2))\n",
    "flag = False\n",
    "for i in range(num):\n",
    "  sol = solver(func, [0, tend], state[i], t_eval=t_eval)\n",
    "  tval = sol['t']\n",
    "  q1 = sol['y'][0]\n",
    "  q2 = sol['y'][1]\n",
    "  xval = np.vstack([q1,q2])\n",
    "  dxdt = func(tval, xval)\n",
    "  if flag:\n",
    "    x_input = np.concatenate([x_input, xval], 1)\n",
    "    x_target = np.concatenate([x_target, dxdt], 1)\n",
    "  else:\n",
    "    x_input = xval\n",
    "    x_target = dxdt\n",
    "    flag = True\n",
    "\n",
    "x_target_max = np.abs(x_target).max(axis=1)\n",
    "A = np.diag(x_target_max)\n",
    "B = A\n",
    "    \n",
    "x_input = np.matmul(np.linalg.inv(B),x_input)\n",
    "x_target = np.linalg.inv(A)@x_target"
   ]
  },
  {
   "cell_type": "code",
   "execution_count": null,
   "metadata": {
    "id": "fmt4Pcyifbkb"
   },
   "outputs": [],
   "source": [
    "target_file = np.savetxt(\"target.csv\", x_target.T, delimiter=',')\n",
    "input_file = np.savetxt(\"input.csv\", x_input.T, delimiter=',')"
   ]
  },
  {
   "cell_type": "code",
   "execution_count": 4,
   "metadata": {
    "executionInfo": {
     "elapsed": 350,
     "status": "ok",
     "timestamp": 1621298732882,
     "user": {
      "photoUrl": ""
     },
     "user_tz": -540
    },
    "id": "YZdzd-TufpHr"
   },
   "outputs": [],
   "source": [
    "A_file = np.savetxt(\"A.csv\", A, delimiter=',')\n",
    "B_file = np.savetxt(\"B.csv\", B, delimiter=',')"
   ]
  },
  {
   "cell_type": "code",
   "execution_count": null,
   "metadata": {
    "id": "ZH4ZFt-c713P"
   },
   "outputs": [],
   "source": []
  }
 ],
 "metadata": {
  "colab": {
   "authorship_tag": "ABX9TyOh3xylpxAH2hkGANBQcC2q",
   "name": "lv data.ipynb",
   "provenance": []
  },
  "kernelspec": {
   "display_name": "Python 3",
   "language": "python",
   "name": "python3"
  },
  "language_info": {
   "codemirror_mode": {
    "name": "ipython",
    "version": 3
   },
   "file_extension": ".py",
   "mimetype": "text/x-python",
   "name": "python",
   "nbconvert_exporter": "python",
   "pygments_lexer": "ipython3",
   "version": "3.8.5"
  }
 },
 "nbformat": 4,
 "nbformat_minor": 1
}
