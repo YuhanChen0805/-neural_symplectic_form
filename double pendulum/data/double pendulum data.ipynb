{
 "cells": [
  {
   "cell_type": "code",
   "execution_count": 1,
   "metadata": {
    "executionInfo": {
     "elapsed": 3441,
     "status": "ok",
     "timestamp": 1621933478415,
     "user_tz": -540
    },
    "id": "ZGt8jMNNKV8e"
   },
   "outputs": [],
   "source": [
    "import torch\n",
    "import numpy as np\n",
    "import scipy.integrate\n",
    "solver = scipy.integrate.solve_ivp\n",
    "from numpy import sin, cos \n",
    "import matplotlib.pyplot as plt\n",
    "import random\n",
    "\n",
    "seed = 36\n",
    "random.seed(seed)\n",
    "np.random.seed(seed)\n",
    "torch.manual_seed(seed)\n",
    "torch.cuda.manual_seed_all(seed)\n",
    "torch.backends.cudnn.determinstic = True"
   ]
  },
  {
   "cell_type": "code",
   "execution_count": 2,
   "metadata": {
    "executionInfo": {
     "elapsed": 48163,
     "status": "ok",
     "timestamp": 1621933526577,
     "user_tz": -540
    },
    "id": "z28w3rirLKw_"
   },
   "outputs": [],
   "source": [
    "#parameters\n",
    "g = 9.8\n",
    "m1 = 1.0\n",
    "m2 = 2.0\n",
    "l1 = 1.0\n",
    "l2 = 1.0\n",
    "m = m1+m2\n",
    "\n",
    "def func(t, state):\n",
    "  cosv = np.cos(state[0]-state[2])\n",
    "  sinv = np.sin(state[0]-state[2])\n",
    "  dvdt = np.zeros_like(state)\n",
    "  dvdt[0] = state[1]\n",
    "  dvdt[2] = state[3]\n",
    "  dvdt[1] = (g*(np.sin(state[2])*cosv - m/m2*np.sin(state[0])) - (l1*state[1]*state[1]*cosv + l2* state[3]*state[3])*sinv) / (l1*(m/m2-cosv*cosv))\n",
    "  dvdt[3] = (g*m/m2*(np.sin(state[0])*cosv - np.sin(state[2])) + sinv * (l1*state[1]*state[1]*m/m2 + l2* state[3]*state[3]*cosv)) / (l2*(m/m2-cosv*cosv))\n",
    "  return dvdt\n",
    "\n",
    "#　the time grid\n",
    "M = 100\n",
    "tend = 5.0\n",
    "t_eval = np.linspace(0,tend,M)\n",
    "dt = t_eval[1]-t_eval[0]\n",
    "num = 2000\n",
    "x1_init = np.random.randn(num)\n",
    "x2_init = np.random.randn(num)\n",
    "v1_init = np.random.randn(num)\n",
    "v2_init = np.random.randn(num)\n",
    "state = np.random.randn(num, 4)\n",
    "flag = False\n",
    "for i in range(num):\n",
    "  sol = solver(func, [0, tend], state[i], t_eval=t_eval)\n",
    "  tval = sol['t']\n",
    "  dv1dt = sol['y'][0], sol['y'][1]\n",
    "  dv2dt = sol['y'][2], sol['y'][3]\n",
    "  p1 = dv1dt[0]\n",
    "  v1 = dv1dt[1] \n",
    "  p2 = dv2dt[0]\n",
    "  v2 = dv2dt[1]\n",
    "  q1 = sol['y'][0]\n",
    "  v1 = sol['y'][1]\n",
    "  q2 = sol['y'][2]\n",
    "  v2 = sol['y'][3]\n",
    "  xval = np.vstack([p1, v1, p2, v2])\n",
    "  dxdt = func(tval, xval)\n",
    "  if flag:\n",
    "    x_input = np.concatenate([x_input, xval], 1)\n",
    "    x_target = np.concatenate([x_target, dxdt], 1)\n",
    "  else:\n",
    "    x_input = xval\n",
    "    x_target = dxdt\n",
    "    flag = True\n",
    "\n",
    "x_target_max = np.abs(x_target).max(axis=1)\n",
    "A = np.diag(x_target_max)\n",
    "B = A\n",
    "\n",
    "x_input = np.matmul(np.linalg.inv(B),x_input)\n",
    "x_target = np.linalg.inv(A)@x_target"
   ]
  },
  {
   "cell_type": "code",
   "execution_count": 5,
   "metadata": {
    "executionInfo": {
     "elapsed": 2951,
     "status": "ok",
     "timestamp": 1621933591258,
     "user_tz": -540
    },
    "id": "KiDSPLmnLYnI"
   },
   "outputs": [],
   "source": [
    "target_file = np.savetxt(\"target.csv\", x_target.T, delimiter=',')\n",
    "input_file = np.savetxt(\"input.csv\", x_input.T, delimiter=',')"
   ]
  },
  {
   "cell_type": "code",
   "execution_count": 6,
   "metadata": {
    "executionInfo": {
     "elapsed": 2,
     "status": "ok",
     "timestamp": 1621933593071,
     "user_tz": -540
    },
    "id": "5H6xuCDwLgfx"
   },
   "outputs": [],
   "source": [
    "A_file = np.savetxt(\"A.csv\", A, delimiter=',')\n",
    "B_file = np.savetxt(\"B.csv\", B, delimiter=',')"
   ]
  },
  {
   "cell_type": "code",
   "execution_count": null,
   "metadata": {
    "id": "RUOH4rCi7c9n"
   },
   "outputs": [],
   "source": []
  }
 ],
 "metadata": {
  "colab": {
   "authorship_tag": "ABX9TyNuolaExqqUgyG0+XYsCCbC",
   "name": "double pendulum data.ipynb",
   "provenance": []
  },
  "kernelspec": {
   "display_name": "Python 3",
   "language": "python",
   "name": "python3"
  },
  "language_info": {
   "codemirror_mode": {
    "name": "ipython",
    "version": 3
   },
   "file_extension": ".py",
   "mimetype": "text/x-python",
   "name": "python",
   "nbconvert_exporter": "python",
   "pygments_lexer": "ipython3",
   "version": "3.8.5"
  }
 },
 "nbformat": 4,
 "nbformat_minor": 1
}
